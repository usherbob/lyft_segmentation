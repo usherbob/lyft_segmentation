{
 "cells": [
  {
   "cell_type": "code",
   "execution_count": 70,
   "metadata": {},
   "outputs": [],
   "source": [
    "import os\n",
    "import numpy as np\n",
    "import random\n",
    "import glob\n",
    "import pandas as pd\n",
    "from tqdm import tqdm_notebook\n",
    "from pyquaternion import Quaternion\n",
    "from lyft_dataset_sdk.lyftdataset import LyftDataset\n",
    "from lyft_dataset_sdk.utils.data_classes import LidarPointCloud, Box\n",
    "from lyft_dataset_sdk.utils.geometry_utils import BoxVisibility, transform_matrix\n",
    "from lyft_dataset_sdk.utils.kitti import KittiDB\n",
    "from lyft_dataset_sdk.eval.detection.mAP_evaluation import Box3D"
   ]
  },
  {
   "cell_type": "code",
   "execution_count": 2,
   "metadata": {},
   "outputs": [
    {
     "name": "stdout",
     "output_type": "stream",
     "text": [
      "JSON file instance.json missing, using empty list\n",
      "JSON file sample_annotation.json missing, using empty list\n",
      "9 category,\n",
      "17 attribute,\n",
      "4 visibility,\n",
      "0 instance,\n",
      "8 sensor,\n",
      "168 calibrated_sensor,\n",
      "219744 ego_pose,\n",
      "218 log,\n",
      "218 scene,\n",
      "27468 sample,\n",
      "219744 sample_data,\n",
      "0 sample_annotation,\n",
      "1 map,\n",
      "Done loading in 3.4 seconds.\n",
      "======\n",
      "Reverse indexing ...\n",
      "Done reverse indexing in 1.5 seconds.\n",
      "======\n"
     ]
    }
   ],
   "source": [
    "# load lyft test dataset\n",
    "level5data = LyftDataset(data_path='.', json_path='/home/bob/data/lyft_data/test_data', verbose=True)"
   ]
  },
  {
   "cell_type": "code",
   "execution_count": 71,
   "metadata": {},
   "outputs": [],
   "source": [
    "# loda kitti pred boxes\n",
    "pred_folder = '/home/bob/data/lyft2kitti/testing/pred/'\n",
    "pred_filepaths = sorted(glob.glob(os.path.join(pred_folder, \"*.txt\")))"
   ]
  },
  {
   "cell_type": "code",
   "execution_count": 72,
   "metadata": {},
   "outputs": [],
   "source": [
    "def read_calib_file(filepath):\n",
    "        with open(filepath) as f:\n",
    "            lines = f.readlines()\n",
    "    \n",
    "        obj = lines[2].strip().split(' ')[1:]\n",
    "        P2 = np.array(obj, dtype=np.float32)\n",
    "        obj = lines[3].strip().split(' ')[1:]\n",
    "        P3 = np.array(obj, dtype=np.float32)\n",
    "        obj = lines[4].strip().split(' ')[1:]\n",
    "        R0 = np.array(obj, dtype=np.float32)\n",
    "        obj = lines[5].strip().split(' ')[1:]\n",
    "        Tr_velo_to_cam = np.array(obj, dtype=np.float32)\n",
    "\n",
    "        return {'P2': P2.reshape(3, 4),\n",
    "                'P3': P3.reshape(3, 4),\n",
    "                'R_rect': R0.reshape(3, 3),\n",
    "                'Tr_velo2cam': Tr_velo_to_cam.reshape(3, 4)}"
   ]
  },
  {
   "cell_type": "code",
   "execution_count": 74,
   "metadata": {},
   "outputs": [],
   "source": [
    "pred_box3ds = []\n",
    "kitti_to_nu_lidar = Quaternion(axis=(0,0,1), angle=np.pi/2)\n",
    "for ii, pred_file in enumerate(pred_filepaths):\n",
    "    sample_token = pred_file[40:-4]\n",
    "    calib_path = pred_file.replace('pred','calib')\n",
    "    calib = read_calib_file(calib_path)\n",
    "    sample = level5data.get('sample', sample_token)\n",
    "    lidar_token = sample['data']['LIDAR_TOP']\n",
    "    sd_record_lid = level5data.get('sample_data', lidar_token) # lidar sample data\n",
    "    cs_record_lid = level5data.get('calibrated_sensor', sd_record_lid['calibrated_sensor_token']) \n",
    "    ego_pose = level5data.get(\"ego_pose\", sd_record_lid[\"ego_pose_token\"])\n",
    "    with open(pred_file) as f:\n",
    "        for line in f:\n",
    "            # Parse this line into box information.\n",
    "            parsed_line = KittiDB.parse_label_line(line) # in cam corrd\n",
    "            center = parsed_line[\"xyz_camera\"]\n",
    "            wlh = parsed_line[\"wlh\"]\n",
    "            yaw_camera = parsed_line[\"yaw_camera\"]\n",
    "            name = parsed_line[\"name\"]\n",
    "            score = parsed_line[\"score\"]\n",
    "            # quat_box \n",
    "            quat_box = Quaternion(axis=(0, 1, 0), angle=yaw_camera) * Quaternion(axis=(1, 0, 0), angle=np.pi / 2)\n",
    "            # 1: box in camera coord\n",
    "            box = Box([0.0, 0.0, 0.0], wlh, quat_box, name=name, token = sample_token)\n",
    "            # 2: center definition difference\n",
    "            box.translate(center + np.array([0, -wlh[2] / 2, 0]))\n",
    "            # 3: transform from camera to lidar\n",
    "            box.rotate(Quaternion(matrix=calib['R_rect']).inverse)\n",
    "            box.translate(-calib['Tr_velo2cam'][:,3])\n",
    "            box.rotate(Quaternion(matrix=calib['Tr_velo2cam'][:,:3]).inverse)\n",
    "            # 4: Transform to nuScenes LIDAR coord system.\n",
    "            box.rotate(kitti_to_nu_lidar)\n",
    "            box.score = score\n",
    "            # 5: transform from lidar to ego\n",
    "            box.rotate(Quaternion(cs_record_lid['rotation']))\n",
    "            box.translate(np.array(cs_record_lid['translation']))\n",
    "            # 6: transform from ego to global\n",
    "            box.rotate(Quaternion(ego_pose['rotation']))\n",
    "            box.translate(np.array(ego_pose['translation']))\n",
    "            \n",
    "            ## to 3D box format\n",
    "            box3d = Box3D(\n",
    "                sample_token=sample_token,\n",
    "                translation=list(box.center),\n",
    "                size=list(box.wlh),\n",
    "                rotation=list(box.orientation.elements),\n",
    "                name=name,\n",
    "                score=score\n",
    "            )\n",
    "        pred_box3ds.append(box3d)"
   ]
  },
  {
   "cell_type": "code",
   "execution_count": null,
   "metadata": {},
   "outputs": [],
   "source": [
    "sub = {}\n",
    "for i in tqdm_notebook(range(len(pred_box3ds))):\n",
    "#     yaw = -np.arctan2(pred_box3ds[i].rotation[2], pred_box3ds[i].rotation[0])\n",
    "    yaw = 2*np.arccos(pred_box3ds[i].rotation[0])\n",
    "    pred =  str(pred_box3ds[i].score/255) + ' ' + str(pred_box3ds[i].center_x)  + ' '  + \\\n",
    "    str(pred_box3ds[i].center_y) + ' '  + str(pred_box3ds[i].center_z) + ' '  + \\\n",
    "    str(pred_box3ds[i].width) + ' ' \\\n",
    "    + str(pred_box3ds[i].length) + ' '  + str(pred_box3ds[i].height) + ' ' + str(yaw) + ' ' \\\n",
    "    + str(pred_box3ds[i].name) + ' ' \n",
    "        \n",
    "    if pred_box3ds[i].sample_token in sub.keys():     \n",
    "        sub[pred_box3ds[i].sample_token] += pred\n",
    "    else:\n",
    "        sub[pred_box3ds[i].sample_token] = pred        \n",
    "    \n",
    "sample_sub = pd.read_csv('/home/bob/data/lyft_data/sample_submission.csv')\n",
    "for token in set(sample_sub.Id.values).difference(sub.keys()):\n",
    "    print(token)\n",
    "    sub[token] = ''"
   ]
  },
  {
   "cell_type": "markdown",
   "metadata": {},
   "source": [
    "sub = {}           \n",
    "for i in tqdm_notebook(range(len(pred_boxes))):\n",
    "    box = pred_boxes[i]\n",
    "    yaw = 2*np.arccos(box.orientation[0])\n",
    "    pred =  str(box.score) + ' ' + str(box.center[0])  + ' '  + str(box.center[1]) + ' '  + \\\n",
    "        str(box.center[2]) + ' '  + str(box.wlh[0]) + ' '+ str(box.wlh[1]) + ' '  + str(box.wlh[2])\\\n",
    "        + ' ' + str(yaw) + ' ' + str(box.name) + ' ' \n",
    "        \n",
    "    if box.token in sub.keys():     \n",
    "        sub[box.token] += pred\n",
    "    else:\n",
    "        sub[box.token] = pred        \n",
    "    \n",
    "sample_sub = pd.read_csv('/home/bob/data/lyft_data/sample_submission.csv')\n",
    "count = 0\n",
    "for token in set(sample_sub.Id.values).difference(sub.keys()):\n",
    "    print(token)\n",
    "    count+=1\n",
    "    sub[token] = ''\n",
    "print(count)"
   ]
  },
  {
   "cell_type": "code",
   "execution_count": 76,
   "metadata": {},
   "outputs": [
    {
     "data": {
      "text/html": [
       "<div>\n",
       "<style scoped>\n",
       "    .dataframe tbody tr th:only-of-type {\n",
       "        vertical-align: middle;\n",
       "    }\n",
       "\n",
       "    .dataframe tbody tr th {\n",
       "        vertical-align: top;\n",
       "    }\n",
       "\n",
       "    .dataframe thead th {\n",
       "        text-align: right;\n",
       "    }\n",
       "</style>\n",
       "<table border=\"1\" class=\"dataframe\">\n",
       "  <thead>\n",
       "    <tr style=\"text-align: right;\">\n",
       "      <th></th>\n",
       "      <th>Id</th>\n",
       "      <th>PredictionString</th>\n",
       "    </tr>\n",
       "  </thead>\n",
       "  <tbody>\n",
       "    <tr>\n",
       "      <th>0</th>\n",
       "      <td>0005e1fcd0f431ccfc5d301c193da1d1fcd6007c104566...</td>\n",
       "      <td>1.0 2424.2783973882256 844.2727629191078 -20.4...</td>\n",
       "    </tr>\n",
       "    <tr>\n",
       "      <th>1</th>\n",
       "      <td>0006881ddeae36eec1d4f5d3b3c0d4cf23a5afdd668833...</td>\n",
       "      <td>1.0 631.9738700169175 2630.1338843974518 -21.8...</td>\n",
       "    </tr>\n",
       "    <tr>\n",
       "      <th>2</th>\n",
       "      <td>000e0f4e29ef684c0a2ccf9bd17586e9b2491e9f488595...</td>\n",
       "      <td>1.0 1988.6995395590056 1140.2357526255125 -20....</td>\n",
       "    </tr>\n",
       "    <tr>\n",
       "      <th>3</th>\n",
       "      <td>0013a4dccf084f18587ad99a20f7c7bc32dc23e10dcd36...</td>\n",
       "      <td>1.0 1165.8717303351834 1642.0893989460772 -25....</td>\n",
       "    </tr>\n",
       "    <tr>\n",
       "      <th>4</th>\n",
       "      <td>0015c9d8d97b2409c6283f7dfa9fdfd1f016ed3146e34d...</td>\n",
       "      <td>1.0 1133.5052863119015 1626.865814049319 -25.2...</td>\n",
       "    </tr>\n",
       "  </tbody>\n",
       "</table>\n",
       "</div>"
      ],
      "text/plain": [
       "                                                  Id  \\\n",
       "0  0005e1fcd0f431ccfc5d301c193da1d1fcd6007c104566...   \n",
       "1  0006881ddeae36eec1d4f5d3b3c0d4cf23a5afdd668833...   \n",
       "2  000e0f4e29ef684c0a2ccf9bd17586e9b2491e9f488595...   \n",
       "3  0013a4dccf084f18587ad99a20f7c7bc32dc23e10dcd36...   \n",
       "4  0015c9d8d97b2409c6283f7dfa9fdfd1f016ed3146e34d...   \n",
       "\n",
       "                                    PredictionString  \n",
       "0  1.0 2424.2783973882256 844.2727629191078 -20.4...  \n",
       "1  1.0 631.9738700169175 2630.1338843974518 -21.8...  \n",
       "2  1.0 1988.6995395590056 1140.2357526255125 -20....  \n",
       "3  1.0 1165.8717303351834 1642.0893989460772 -25....  \n",
       "4  1.0 1133.5052863119015 1626.865814049319 -25.2...  "
      ]
     },
     "execution_count": 76,
     "metadata": {},
     "output_type": "execute_result"
    }
   ],
   "source": [
    "sub = pd.DataFrame(list(sub.items()))\n",
    "sub.columns = sample_sub.columns\n",
    "sub.head()"
   ]
  },
  {
   "cell_type": "code",
   "execution_count": 77,
   "metadata": {},
   "outputs": [
    {
     "data": {
      "text/plain": [
       "(27468, 2)"
      ]
     },
     "execution_count": 77,
     "metadata": {},
     "output_type": "execute_result"
    }
   ],
   "source": [
    "sub.to_csv('complex_yolo_test.csv', index=False)\n",
    "sub.shape"
   ]
  },
  {
   "cell_type": "code",
   "execution_count": 81,
   "metadata": {},
   "outputs": [
    {
     "data": {
      "text/plain": [
       "''"
      ]
     },
     "execution_count": 81,
     "metadata": {},
     "output_type": "execute_result"
    }
   ],
   "source": [
    "sub['0bb5c8961726da83a833206bdc086a71e3f6e6288b46319a714ada68b32e263b']"
   ]
  },
  {
   "cell_type": "code",
   "execution_count": 62,
   "metadata": {},
   "outputs": [
    {
     "data": {
      "text/plain": [
       "Id                  0005e1fcd0f431ccfc5d301c193da1d1fcd6007c104566...\n",
       "PredictionString    -1.0 2424.2783973882256 844.2727629191078 -20....\n",
       "Name: 0, dtype: object"
      ]
     },
     "execution_count": 62,
     "metadata": {},
     "output_type": "execute_result"
    }
   ],
   "source": [
    "sub.iloc[0]"
   ]
  },
  {
   "cell_type": "code",
   "execution_count": null,
   "metadata": {},
   "outputs": [],
   "source": []
  }
 ],
 "metadata": {
  "kernelspec": {
   "display_name": "Python 3",
   "language": "python",
   "name": "python3"
  },
  "language_info": {
   "codemirror_mode": {
    "name": "ipython",
    "version": 3
   },
   "file_extension": ".py",
   "mimetype": "text/x-python",
   "name": "python",
   "nbconvert_exporter": "python",
   "pygments_lexer": "ipython3",
   "version": "3.7.3"
  }
 },
 "nbformat": 4,
 "nbformat_minor": 2
}
